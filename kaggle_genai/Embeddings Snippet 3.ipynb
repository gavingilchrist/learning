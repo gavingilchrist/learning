{
 "cells": [
  {
   "cell_type": "code",
   "execution_count": 8,
   "id": "86f5323e-572d-4699-bc12-9ba186ac9318",
   "metadata": {},
   "outputs": [],
   "source": [
    "from gensim.test.utils import common_texts\n",
    "from gensim.models.doc2vec import Doc2Vec, TaggedDocument\n",
    "from gensim.test.utils import get_tmpfile"
   ]
  },
  {
   "cell_type": "code",
   "execution_count": 9,
   "id": "ad463f69-969b-431e-91a7-d74c48838003",
   "metadata": {},
   "outputs": [],
   "source": [
    "#train model on a sequence of documents tagged with their IDs\n",
    "documents = [TaggedDocument(doc, [i]) for i, doc in enumerate(common_texts)]\n",
    "model = Doc2Vec(documents, vector_size=8, window=3, min_count=1, workers=6)"
   ]
  },
  {
   "cell_type": "code",
   "execution_count": 12,
   "id": "b47e04dc-cc49-4046-9f23-3dfbf7ebfcb4",
   "metadata": {},
   "outputs": [
    {
     "data": {
      "text/plain": [
       "array([-0.01517495, -0.03218051, -0.03373206,  0.04126316, -0.03493176,\n",
       "       -0.02361005, -0.04054588, -0.006632  ], dtype=float32)"
      ]
     },
     "execution_count": 12,
     "metadata": {},
     "output_type": "execute_result"
    }
   ],
   "source": [
    "# persist model to disk, and load it to infer on new documents\n",
    "model_file = get_tmpfile(\"Doc2Vec_v1\")\n",
    "model.save(model_file)\n",
    "model = Doc2Vec.load(model_file)\n",
    "model.infer_vector([\"human\", \"interface\"])"
   ]
  }
 ],
 "metadata": {
  "kernelspec": {
   "display_name": "py3_11",
   "language": "python",
   "name": "py3_11"
  },
  "language_info": {
   "codemirror_mode": {
    "name": "ipython",
    "version": 3
   },
   "file_extension": ".py",
   "mimetype": "text/x-python",
   "name": "python",
   "nbconvert_exporter": "python",
   "pygments_lexer": "ipython3",
   "version": "3.11.9"
  }
 },
 "nbformat": 4,
 "nbformat_minor": 5
}
